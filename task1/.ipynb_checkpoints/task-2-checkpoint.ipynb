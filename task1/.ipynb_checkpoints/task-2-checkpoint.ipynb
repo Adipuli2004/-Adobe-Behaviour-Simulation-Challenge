{
 "cells": [
  {
   "cell_type": "code",
   "execution_count": 1,
   "metadata": {
    "execution": {
     "iopub.execute_input": "2023-12-12T19:45:42.750440Z",
     "iopub.status.busy": "2023-12-12T19:45:42.749297Z",
     "iopub.status.idle": "2023-12-12T19:46:58.890091Z",
     "shell.execute_reply": "2023-12-12T19:46:58.888889Z",
     "shell.execute_reply.started": "2023-12-12T19:45:42.750400Z"
    }
   },
   "outputs": [
    {
     "name": "stderr",
     "output_type": "stream",
     "text": [
      "WARNING: Ignoring invalid distribution -illow (c:\\users\\user\\appdata\\roaming\\python\\python310\\site-packages)\n",
      "WARNING: Ignoring invalid distribution -rotobuf (c:\\users\\user\\appdata\\roaming\\python\\python310\\site-packages)\n",
      "WARNING: Ignoring invalid distribution -illow (c:\\users\\user\\appdata\\roaming\\python\\python310\\site-packages)\n",
      "WARNING: Ignoring invalid distribution -rotobuf (c:\\users\\user\\appdata\\roaming\\python\\python310\\site-packages)\n",
      "WARNING: Ignoring invalid distribution -illow (c:\\users\\user\\appdata\\roaming\\python\\python310\\site-packages)\n",
      "WARNING: Ignoring invalid distribution -rotobuf (c:\\users\\user\\appdata\\roaming\\python\\python310\\site-packages)\n",
      "WARNING: Ignoring invalid distribution -illow (c:\\users\\user\\appdata\\roaming\\python\\python310\\site-packages)\n",
      "WARNING: Ignoring invalid distribution -rotobuf (c:\\users\\user\\appdata\\roaming\\python\\python310\\site-packages)\n",
      "\n",
      "[notice] A new release of pip is available: 23.2.1 -> 23.3.1\n",
      "[notice] To update, run: python.exe -m pip install --upgrade pip\n",
      "WARNING: Ignoring invalid distribution -illow (c:\\users\\user\\appdata\\roaming\\python\\python310\\site-packages)\n",
      "WARNING: Ignoring invalid distribution -rotobuf (c:\\users\\user\\appdata\\roaming\\python\\python310\\site-packages)\n",
      "WARNING: Ignoring invalid distribution -illow (c:\\users\\user\\appdata\\roaming\\python\\python310\\site-packages)\n",
      "WARNING: Ignoring invalid distribution -rotobuf (c:\\users\\user\\appdata\\roaming\\python\\python310\\site-packages)\n",
      "WARNING: Ignoring invalid distribution -illow (c:\\users\\user\\appdata\\roaming\\python\\python310\\site-packages)\n",
      "WARNING: Ignoring invalid distribution -rotobuf (c:\\users\\user\\appdata\\roaming\\python\\python310\\site-packages)\n",
      "WARNING: Ignoring invalid distribution -illow (c:\\users\\user\\appdata\\roaming\\python\\python310\\site-packages)\n",
      "WARNING: Ignoring invalid distribution -rotobuf (c:\\users\\user\\appdata\\roaming\\python\\python310\\site-packages)\n",
      "\n",
      "[notice] A new release of pip is available: 23.2.1 -> 23.3.1\n",
      "[notice] To update, run: python.exe -m pip install --upgrade pip\n",
      "WARNING: Ignoring invalid distribution -illow (c:\\users\\user\\appdata\\roaming\\python\\python310\\site-packages)\n",
      "WARNING: Ignoring invalid distribution -rotobuf (c:\\users\\user\\appdata\\roaming\\python\\python310\\site-packages)\n",
      "WARNING: Ignoring invalid distribution -illow (c:\\users\\user\\appdata\\roaming\\python\\python310\\site-packages)\n",
      "WARNING: Ignoring invalid distribution -rotobuf (c:\\users\\user\\appdata\\roaming\\python\\python310\\site-packages)\n",
      "WARNING: Ignoring invalid distribution -illow (c:\\users\\user\\appdata\\roaming\\python\\python310\\site-packages)\n",
      "WARNING: Ignoring invalid distribution -rotobuf (c:\\users\\user\\appdata\\roaming\\python\\python310\\site-packages)\n",
      "    WARNING: Ignoring invalid distribution -illow (c:\\users\\user\\appdata\\roaming\\python\\python310\\site-packages)\n",
      "    WARNING: Ignoring invalid distribution -rotobuf (c:\\users\\user\\appdata\\roaming\\python\\python310\\site-packages)\n",
      "WARNING: Ignoring invalid distribution -illow (c:\\users\\user\\appdata\\roaming\\python\\python310\\site-packages)\n",
      "WARNING: Ignoring invalid distribution -rotobuf (c:\\users\\user\\appdata\\roaming\\python\\python310\\site-packages)\n",
      "\n",
      "[notice] A new release of pip is available: 23.2.1 -> 23.3.1\n",
      "[notice] To update, run: python.exe -m pip install --upgrade pip\n"
     ]
    },
    {
     "name": "stdout",
     "output_type": "stream",
     "text": [
      "Requirement already satisfied: av in c:\\program files\\python310\\lib\\site-packages (11.0.0)\n"
     ]
    },
    {
     "name": "stderr",
     "output_type": "stream",
     "text": [
      "WARNING: Ignoring invalid distribution -illow (c:\\users\\user\\appdata\\roaming\\python\\python310\\site-packages)\n",
      "WARNING: Ignoring invalid distribution -rotobuf (c:\\users\\user\\appdata\\roaming\\python\\python310\\site-packages)\n",
      "WARNING: Ignoring invalid distribution -illow (c:\\users\\user\\appdata\\roaming\\python\\python310\\site-packages)\n",
      "WARNING: Ignoring invalid distribution -rotobuf (c:\\users\\user\\appdata\\roaming\\python\\python310\\site-packages)\n",
      "WARNING: Ignoring invalid distribution -illow (c:\\users\\user\\appdata\\roaming\\python\\python310\\site-packages)\n",
      "WARNING: Ignoring invalid distribution -rotobuf (c:\\users\\user\\appdata\\roaming\\python\\python310\\site-packages)\n",
      "WARNING: Ignoring invalid distribution -illow (c:\\users\\user\\appdata\\roaming\\python\\python310\\site-packages)\n",
      "WARNING: Ignoring invalid distribution -rotobuf (c:\\users\\user\\appdata\\roaming\\python\\python310\\site-packages)\n",
      "\n",
      "[notice] A new release of pip is available: 23.2.1 -> 23.3.1\n",
      "[notice] To update, run: python.exe -m pip install --upgrade pip\n"
     ]
    }
   ],
   "source": [
    "!pip install -q -U bitsandbytes\n",
    "!pip install -q -U git+https://github.com/huggingface/peft.git\n",
    "!pip install -q -U git+https://github.com/huggingface/accelerate.git\n",
    "!pip install av"
   ]
  },
  {
   "cell_type": "code",
   "execution_count": 4,
   "metadata": {},
   "outputs": [
    {
     "name": "stdout",
     "output_type": "stream",
     "text": [
      "Requirement already satisfied: pip in c:\\users\\user\\appdata\\roaming\\python\\python310\\site-packages (23.2.1)\n",
      "Collecting pip\n",
      "  Obtaining dependency information for pip from https://files.pythonhosted.org/packages/47/6a/453160888fab7c6a432a6e25f8afe6256d0d9f2cbd25971021da6491d899/pip-23.3.1-py3-none-any.whl.metadata\n",
      "  Downloading pip-23.3.1-py3-none-any.whl.metadata (3.5 kB)\n",
      "Downloading pip-23.3.1-py3-none-any.whl (2.1 MB)\n",
      "   ---------------------------------------- 2.1/2.1 MB 10.3 MB/s eta 0:00:00\n",
      "Installing collected packages: pip\n",
      "  Attempting uninstall: pip\n",
      "    Found existing installation: pip 23.2.1\n",
      "    Uninstalling pip-23.2.1:\n",
      "      Successfully uninstalled pip-23.2.1\n",
      "  Rolling back uninstall of pip\n",
      "  Moving to c:\\users\\user\\appdata\\roaming\\python\\python310\\scripts\\pip.exe\n",
      "   from C:\\Users\\User\\AppData\\Local\\Temp\\pip-uninstall-6j30rw7d\\pip.exe\n",
      "  Moving to c:\\users\\user\\appdata\\roaming\\python\\python310\\scripts\\pip3.10.exe\n",
      "   from C:\\Users\\User\\AppData\\Local\\Temp\\pip-uninstall-6j30rw7d\\pip3.10.exe\n",
      "  Moving to c:\\users\\user\\appdata\\roaming\\python\\python310\\scripts\\pip3.exe\n",
      "   from C:\\Users\\User\\AppData\\Local\\Temp\\pip-uninstall-6j30rw7d\\pip3.exe\n",
      "  Moving to c:\\users\\user\\appdata\\roaming\\python\\python310\\site-packages\\pip-23.2.1.dist-info\\\n",
      "   from C:\\Users\\User\\AppData\\Roaming\\Python\\Python310\\site-packages\\~ip-23.2.1.dist-info\n",
      "  Moving to c:\\users\\user\\appdata\\roaming\\python\\python310\\site-packages\\pip\\\n",
      "   from C:\\Users\\User\\AppData\\Roaming\\Python\\Python310\\site-packages\\~ip\n",
      "Note: you may need to restart the kernel to use updated packages.\n"
     ]
    },
    {
     "name": "stderr",
     "output_type": "stream",
     "text": [
      "WARNING: Ignoring invalid distribution -illow (c:\\users\\user\\appdata\\roaming\\python\\python310\\site-packages)\n",
      "WARNING: Ignoring invalid distribution -rotobuf (c:\\users\\user\\appdata\\roaming\\python\\python310\\site-packages)\n",
      "WARNING: Ignoring invalid distribution -illow (c:\\users\\user\\appdata\\roaming\\python\\python310\\site-packages)\n",
      "WARNING: Ignoring invalid distribution -rotobuf (c:\\users\\user\\appdata\\roaming\\python\\python310\\site-packages)\n",
      "WARNING: Ignoring invalid distribution -illow (c:\\users\\user\\appdata\\roaming\\python\\python310\\site-packages)\n",
      "WARNING: Ignoring invalid distribution -rotobuf (c:\\users\\user\\appdata\\roaming\\python\\python310\\site-packages)\n",
      "ERROR: Exception:\n",
      "Traceback (most recent call last):\n",
      "  File \"C:\\Users\\User\\AppData\\Roaming\\Python\\Python310\\site-packages\\pip\\_internal\\cli\\base_command.py\", line 180, in exc_logging_wrapper\n",
      "    status = run_func(*args)\n",
      "  File \"C:\\Users\\User\\AppData\\Roaming\\Python\\Python310\\site-packages\\pip\\_internal\\cli\\req_command.py\", line 248, in wrapper\n",
      "    return func(self, options, args)\n",
      "  File \"C:\\Users\\User\\AppData\\Roaming\\Python\\Python310\\site-packages\\pip\\_internal\\commands\\install.py\", line 452, in run\n",
      "    installed = install_given_reqs(\n",
      "  File \"C:\\Users\\User\\AppData\\Roaming\\Python\\Python310\\site-packages\\pip\\_internal\\req\\__init__.py\", line 72, in install_given_reqs\n",
      "    requirement.install(\n",
      "  File \"C:\\Users\\User\\AppData\\Roaming\\Python\\Python310\\site-packages\\pip\\_internal\\req\\req_install.py\", line 807, in install\n",
      "    install_wheel(\n",
      "  File \"C:\\Users\\User\\AppData\\Roaming\\Python\\Python310\\site-packages\\pip\\_internal\\operations\\install\\wheel.py\", line 731, in install_wheel\n",
      "    _install_wheel(\n",
      "  File \"C:\\Users\\User\\AppData\\Roaming\\Python\\Python310\\site-packages\\pip\\_internal\\operations\\install\\wheel.py\", line 648, in _install_wheel\n",
      "    generated_console_scripts = maker.make_multiple(scripts_to_generate)\n",
      "  File \"C:\\Users\\User\\AppData\\Roaming\\Python\\Python310\\site-packages\\pip\\_vendor\\distlib\\scripts.py\", line 436, in make_multiple\n",
      "    filenames.extend(self.make(specification, options))\n",
      "  File \"C:\\Users\\User\\AppData\\Roaming\\Python\\Python310\\site-packages\\pip\\_internal\\operations\\install\\wheel.py\", line 429, in make\n",
      "    return super().make(specification, options)\n",
      "  File \"C:\\Users\\User\\AppData\\Roaming\\Python\\Python310\\site-packages\\pip\\_vendor\\distlib\\scripts.py\", line 425, in make\n",
      "    self._make_script(entry, filenames, options=options)\n",
      "  File \"C:\\Users\\User\\AppData\\Roaming\\Python\\Python310\\site-packages\\pip\\_vendor\\distlib\\scripts.py\", line 325, in _make_script\n",
      "    self._write_script(scriptnames, shebang, script, filenames, ext)\n",
      "  File \"C:\\Users\\User\\AppData\\Roaming\\Python\\Python310\\site-packages\\pip\\_vendor\\distlib\\scripts.py\", line 249, in _write_script\n",
      "    launcher = self._get_launcher('t')\n",
      "  File \"C:\\Users\\User\\AppData\\Roaming\\Python\\Python310\\site-packages\\pip\\_vendor\\distlib\\scripts.py\", line 404, in _get_launcher\n",
      "    raise ValueError(msg)\n",
      "ValueError: Unable to find resource t64.exe in package pip._vendor.distlib\n",
      "WARNING: Ignoring invalid distribution -illow (c:\\users\\user\\appdata\\roaming\\python\\python310\\site-packages)\n",
      "WARNING: Ignoring invalid distribution -rotobuf (c:\\users\\user\\appdata\\roaming\\python\\python310\\site-packages)\n",
      "\n",
      "[notice] A new release of pip is available: 23.2.1 -> 23.3.1\n",
      "[notice] To update, run: python.exe -m pip install --upgrade pip\n"
     ]
    }
   ],
   "source": [
    "pip install --upgrade pip"
   ]
  },
  {
   "cell_type": "code",
   "execution_count": 2,
   "metadata": {},
   "outputs": [
    {
     "name": "stdout",
     "output_type": "stream",
     "text": [
      "Requirement already satisfied: transformers in c:\\users\\user\\appdata\\roaming\\python\\python310\\site-packages (4.25.1)\n",
      "Collecting transformers\n",
      "  Obtaining dependency information for transformers from https://files.pythonhosted.org/packages/0f/12/d8e27a190ca67811f81deea3183b528d9169f10b74d827e0b9211520ecfa/transformers-4.36.0-py3-none-any.whl.metadata\n",
      "  Downloading transformers-4.36.0-py3-none-any.whl.metadata (126 kB)\n",
      "     -------------------------------------- 126.8/126.8 kB 2.5 MB/s eta 0:00:00\n",
      "Requirement already satisfied: filelock in c:\\users\\user\\appdata\\roaming\\python\\python310\\site-packages (from transformers) (3.8.0)\n",
      "Requirement already satisfied: huggingface-hub<1.0,>=0.19.3 in c:\\program files\\python310\\lib\\site-packages (from transformers) (0.19.4)\n",
      "Requirement already satisfied: numpy>=1.17 in c:\\users\\user\\appdata\\roaming\\python\\python310\\site-packages (from transformers) (1.23.5)\n",
      "Requirement already satisfied: packaging>=20.0 in c:\\users\\user\\appdata\\roaming\\python\\python310\\site-packages (from transformers) (21.3)\n",
      "Requirement already satisfied: pyyaml>=5.1 in c:\\users\\user\\appdata\\roaming\\python\\python310\\site-packages (from transformers) (6.0)\n",
      "Requirement already satisfied: regex!=2019.12.17 in c:\\users\\user\\appdata\\roaming\\python\\python310\\site-packages (from transformers) (2022.10.31)\n",
      "Requirement already satisfied: requests in c:\\users\\user\\appdata\\roaming\\python\\python310\\site-packages (from transformers) (2.28.1)\n",
      "Collecting tokenizers<0.19,>=0.14 (from transformers)\n",
      "  Obtaining dependency information for tokenizers<0.19,>=0.14 from https://files.pythonhosted.org/packages/42/db/0061fb8004ce9173b9249a0c323c799be51f2c8e6d4ff3cc38b549c3f8b6/tokenizers-0.15.0-cp310-none-win_amd64.whl.metadata\n",
      "  Downloading tokenizers-0.15.0-cp310-none-win_amd64.whl.metadata (6.8 kB)\n",
      "Requirement already satisfied: safetensors>=0.3.1 in c:\\program files\\python310\\lib\\site-packages (from transformers) (0.4.1)\n",
      "Requirement already satisfied: tqdm>=4.27 in c:\\users\\user\\appdata\\roaming\\python\\python310\\site-packages (from transformers) (4.64.1)\n",
      "Requirement already satisfied: fsspec>=2023.5.0 in c:\\program files\\python310\\lib\\site-packages (from huggingface-hub<1.0,>=0.19.3->transformers) (2023.9.2)\n",
      "Requirement already satisfied: typing-extensions>=3.7.4.3 in c:\\users\\user\\appdata\\roaming\\python\\python310\\site-packages (from huggingface-hub<1.0,>=0.19.3->transformers) (4.3.0)\n",
      "Requirement already satisfied: pyparsing!=3.0.5,>=2.0.2 in c:\\users\\user\\appdata\\roaming\\python\\python310\\site-packages (from packaging>=20.0->transformers) (3.0.9)\n",
      "Requirement already satisfied: colorama in c:\\users\\user\\appdata\\roaming\\python\\python310\\site-packages (from tqdm>=4.27->transformers) (0.4.5)\n",
      "Requirement already satisfied: charset-normalizer<3,>=2 in c:\\users\\user\\appdata\\roaming\\python\\python310\\site-packages (from requests->transformers) (2.1.0)\n",
      "Requirement already satisfied: idna<4,>=2.5 in c:\\users\\user\\appdata\\roaming\\python\\python310\\site-packages (from requests->transformers) (3.3)\n",
      "Requirement already satisfied: urllib3<1.27,>=1.21.1 in c:\\users\\user\\appdata\\roaming\\python\\python310\\site-packages (from requests->transformers) (1.26.6)\n",
      "Requirement already satisfied: certifi>=2017.4.17 in c:\\users\\user\\appdata\\roaming\\python\\python310\\site-packages (from requests->transformers) (2022.6.15)\n",
      "Downloading transformers-4.36.0-py3-none-any.whl (8.2 MB)\n",
      "   ---------------------------------------- 8.2/8.2 MB 19.4 MB/s eta 0:00:00\n",
      "Downloading tokenizers-0.15.0-cp310-none-win_amd64.whl (2.2 MB)\n",
      "   ---------------------------------------- 2.2/2.2 MB 23.3 MB/s eta 0:00:00\n",
      "Installing collected packages: tokenizers, transformers\n",
      "  Attempting uninstall: tokenizers\n",
      "    Found existing installation: tokenizers 0.13.2\n",
      "    Uninstalling tokenizers-0.13.2:\n",
      "      Successfully uninstalled tokenizers-0.13.2\n",
      "  Attempting uninstall: transformers\n",
      "    Found existing installation: transformers 4.25.1\n",
      "    Uninstalling transformers-4.25.1:\n",
      "      Successfully uninstalled transformers-4.25.1\n",
      "Successfully installed tokenizers-0.15.0 transformers-4.36.0\n",
      "Note: you may need to restart the kernel to use updated packages.\n"
     ]
    },
    {
     "name": "stderr",
     "output_type": "stream",
     "text": [
      "WARNING: Ignoring invalid distribution -illow (c:\\users\\user\\appdata\\roaming\\python\\python310\\site-packages)\n",
      "WARNING: Ignoring invalid distribution -rotobuf (c:\\users\\user\\appdata\\roaming\\python\\python310\\site-packages)\n",
      "WARNING: Ignoring invalid distribution -illow (c:\\users\\user\\appdata\\roaming\\python\\python310\\site-packages)\n",
      "WARNING: Ignoring invalid distribution -rotobuf (c:\\users\\user\\appdata\\roaming\\python\\python310\\site-packages)\n",
      "WARNING: Ignoring invalid distribution -illow (c:\\users\\user\\appdata\\roaming\\python\\python310\\site-packages)\n",
      "WARNING: Ignoring invalid distribution -rotobuf (c:\\users\\user\\appdata\\roaming\\python\\python310\\site-packages)\n",
      "WARNING: Ignoring invalid distribution -illow (c:\\users\\user\\appdata\\roaming\\python\\python310\\site-packages)\n",
      "WARNING: Ignoring invalid distribution -rotobuf (c:\\users\\user\\appdata\\roaming\\python\\python310\\site-packages)\n",
      "\n",
      "[notice] A new release of pip is available: 23.2.1 -> 23.3.1\n",
      "[notice] To update, run: python.exe -m pip install --upgrade pip\n"
     ]
    }
   ],
   "source": [
    "pip install transformers --upgrade"
   ]
  },
  {
   "cell_type": "code",
   "execution_count": 3,
   "metadata": {
    "execution": {
     "iopub.execute_input": "2023-12-12T19:47:04.950439Z",
     "iopub.status.busy": "2023-12-12T19:47:04.950004Z",
     "iopub.status.idle": "2023-12-12T19:47:17.107925Z",
     "shell.execute_reply": "2023-12-12T19:47:17.107029Z",
     "shell.execute_reply.started": "2023-12-12T19:47:04.950411Z"
    }
   },
   "outputs": [
    {
     "name": "stderr",
     "output_type": "stream",
     "text": [
      "C:\\Users\\User\\AppData\\Roaming\\Python\\Python310\\site-packages\\tqdm\\auto.py:22: TqdmWarning: IProgress not found. Please update jupyter and ipywidgets. See https://ipywidgets.readthedocs.io/en/stable/user_install.html\n",
      "  from .autonotebook import tqdm as notebook_tqdm\n"
     ]
    }
   ],
   "source": [
    "import pandas as pd\n",
    "import transformers\n",
    "import av\n",
    "import re\n",
    "import ast\n",
    "import requests\n",
    "import numpy as np\n",
    "import torch\n",
    "from transformers import AutoImageProcessor, AutoTokenizer, VisionEncoderDecoderModel,AutoModel ,BitsAndBytesConfig, AutoModelForCausalLM\n",
    "from PIL import Image\n",
    "from transformers import BlipProcessor, BlipForConditionalGeneration\n",
    "import requests"
   ]
  },
  {
   "cell_type": "code",
   "execution_count": 4,
   "metadata": {
    "execution": {
     "iopub.execute_input": "2023-12-12T19:53:21.990621Z",
     "iopub.status.busy": "2023-12-12T19:53:21.990189Z",
     "iopub.status.idle": "2023-12-12T19:53:21.997964Z",
     "shell.execute_reply": "2023-12-12T19:53:21.997118Z",
     "shell.execute_reply.started": "2023-12-12T19:53:21.990589Z"
    }
   },
   "outputs": [],
   "source": [
    "device = \"cuda\" if torch.cuda.is_available() else \"cpu\"\n",
    "bnb_config = BitsAndBytesConfig(\n",
    "    load_in_4bit=True,\n",
    "    bnb_4bit_use_double_quant=True,\n",
    "    bnb_4bit_quant_type=\"nf4\",\n",
    "    bnb_4bit_compute_dtype=torch.bfloat16\n",
    ")"
   ]
  },
  {
   "cell_type": "code",
   "execution_count": 8,
   "metadata": {
    "execution": {
     "iopub.execute_input": "2023-12-12T19:53:31.065144Z",
     "iopub.status.busy": "2023-12-12T19:53:31.064372Z",
     "iopub.status.idle": "2023-12-12T19:54:45.583159Z",
     "shell.execute_reply": "2023-12-12T19:54:45.581970Z",
     "shell.execute_reply.started": "2023-12-12T19:53:31.065110Z"
    }
   },
   "outputs": [],
   "source": [
    "ds = pd.read_excel('/kaggle/input/final-ds/PS_8_dataset_with_followers.xlsx')\n",
    "company2sector = pd.read_excel('/kaggle/input/company2sector/company2sector (1).xlsx')"
   ]
  },
  {
   "cell_type": "code",
   "execution_count": null,
   "metadata": {
    "execution": {
     "iopub.execute_input": "2023-12-12T19:54:45.699695Z",
     "iopub.status.busy": "2023-12-12T19:54:45.699411Z",
     "iopub.status.idle": "2023-12-12T19:55:00.021406Z",
     "shell.execute_reply": "2023-12-12T19:55:00.020493Z",
     "shell.execute_reply.started": "2023-12-12T19:54:45.699670Z"
    }
   },
   "outputs": [
    {
     "name": "stderr",
     "output_type": "stream",
     "text": [
      "Could not find image processor class in the image processor config or the model config. Loading based on pattern matching with the model's feature extractor configuration.\n",
      "pytorch_model.bin:  29%|████████████████████▊                                                   | 325M/1.12G [00:16<00:40, 19.9MB/s]"
     ]
    }
   ],
   "source": [
    "image_processor = AutoImageProcessor.from_pretrained(\"MCG-NJU/videomae-base\")\n",
    "tokenizer_vid = AutoTokenizer.from_pretrained(\"gpt2\")\n",
    "model_vid = VisionEncoderDecoderModel.from_pretrained(\"Neleac/timesformer-gpt2-video-captioning\").to(device)"
   ]
  },
  {
   "cell_type": "code",
   "execution_count": 11,
   "metadata": {
    "execution": {
     "iopub.execute_input": "2023-12-12T19:55:13.787813Z",
     "iopub.status.busy": "2023-12-12T19:55:13.786511Z",
     "iopub.status.idle": "2023-12-12T19:55:13.799084Z",
     "shell.execute_reply": "2023-12-12T19:55:13.798078Z",
     "shell.execute_reply.started": "2023-12-12T19:55:13.787772Z"
    }
   },
   "outputs": [],
   "source": [
    "def video_caption(video_url):\n",
    "    try:\n",
    "\n",
    "        # Use regular expression to extract URLs with non-None bitrate\n",
    "        urls_with_bitrate = re.findall(r\"url='(.*?)', bitrate=(\\d+|None)\", video_url)\n",
    "\n",
    "\n",
    "        # Filter URLs where bitrate is not None\n",
    "        filtered_urls = [url for url, bitrate in urls_with_bitrate if bitrate.lower() != 'none']\n",
    "        final_url = filtered_urls[0]\n",
    "        with requests.get(final_url, stream=True) as response:\n",
    "            response.raise_for_status()\n",
    "            with open(\"downloaded_video.mp4\", \"wb\") as f:\n",
    "                for chunk in response.iter_content(chunk_size=8192):\n",
    "                    f.write(chunk)\n",
    "\n",
    "        container = av.open(\"downloaded_video.mp4\")\n",
    "        # extract evenly spaced frames from video\n",
    "        seg_len = container.streams.video[0].frames\n",
    "        clip_len = model.config.encoder.num_frames\n",
    "        indices = set(np.linspace(0, seg_len, num=clip_len, endpoint=False).astype(np.int64))\n",
    "        frames = []\n",
    "\n",
    "        # Seek to the beginning of the video\n",
    "        container.seek(0)\n",
    "\n",
    "        for i, frame in enumerate(container.decode(video=0)):\n",
    "            if i in indices:\n",
    "                frames.append(frame.to_ndarray(format=\"rgb24\"))\n",
    "\n",
    "        # generate caption\n",
    "        gen_kwargs = {\n",
    "            \"min_length\": 10,\n",
    "            \"max_length\": 30,\n",
    "            \"num_beams\": 6,\n",
    "        }\n",
    "        pixel_values = image_processor(frames, return_tensors=\"pt\").pixel_values.to(device)\n",
    "        tokens = model_vid.generate(pixel_values, **gen_kwargs)\n",
    "        return tokenizer_vid.batch_decode(tokens, skip_special_tokens=True)[0]\n",
    "    except Exception as e:\n",
    "        print(e)\n",
    "        return \"blank\"\n",
    "    \n"
   ]
  },
  {
   "cell_type": "code",
   "execution_count": 19,
   "metadata": {
    "execution": {
     "iopub.execute_input": "2023-12-12T19:58:50.580474Z",
     "iopub.status.busy": "2023-12-12T19:58:50.579749Z",
     "iopub.status.idle": "2023-12-12T19:58:56.245853Z",
     "shell.execute_reply": "2023-12-12T19:58:56.244964Z",
     "shell.execute_reply.started": "2023-12-12T19:58:50.580439Z"
    }
   },
   "outputs": [],
   "source": [
    "processor = BlipProcessor.from_pretrained(\"Salesforce/blip-image-captioning-large\")\n",
    "model_img = BlipForConditionalGeneration.from_pretrained(\"Salesforce/blip-image-captioning-large\").to(device)"
   ]
  },
  {
   "cell_type": "code",
   "execution_count": 20,
   "metadata": {
    "execution": {
     "iopub.execute_input": "2023-12-12T19:58:56.589574Z",
     "iopub.status.busy": "2023-12-12T19:58:56.589201Z",
     "iopub.status.idle": "2023-12-12T19:58:56.596778Z",
     "shell.execute_reply": "2023-12-12T19:58:56.595786Z",
     "shell.execute_reply.started": "2023-12-12T19:58:56.589547Z"
    }
   },
   "outputs": [],
   "source": [
    "def img_caption(img_url):\n",
    "    try:\n",
    "        image_data_ast = ast.parse(img_url)\n",
    "        # Extract the URL from the last VideoVariant\n",
    "        last_url = None\n",
    "\n",
    "        for node in ast.walk(image_data_ast):\n",
    "            if isinstance(node, ast.Str) and \"https://\" in node.s:\n",
    "                last_url = node.s\n",
    "        raw_image = Image.open(requests.get(last_url, stream=True).raw).convert('RGB')\n",
    "        inputs = processor(raw_image, return_tensors=\"pt\").to(device)\n",
    "        return processor.decode(model_img.generate(**inputs)[0], skip_special_tokens=True)\n",
    "    except Exception as e:\n",
    "        print(e)\n",
    "        return \"blank\""
   ]
  },
  {
   "cell_type": "code",
   "execution_count": 60,
   "metadata": {
    "execution": {
     "iopub.execute_input": "2023-12-12T20:20:22.657530Z",
     "iopub.status.busy": "2023-12-12T20:20:22.657060Z",
     "iopub.status.idle": "2023-12-12T20:20:22.663794Z",
     "shell.execute_reply": "2023-12-12T20:20:22.662704Z",
     "shell.execute_reply.started": "2023-12-12T20:20:22.657497Z"
    }
   },
   "outputs": [],
   "source": [
    "c=0\n",
    "def captions(url):\n",
    "    global c\n",
    "    c+=1\n",
    "    if url[1] == 'V' or url[1] == 'G':\n",
    "        return video_caption(url)\n",
    "    else:\n",
    "        return img_caption(url)\n",
    "    if c==500:\n",
    "        print(c)"
   ]
  },
  {
   "cell_type": "code",
   "execution_count": 24,
   "metadata": {
    "execution": {
     "iopub.execute_input": "2023-12-12T19:59:04.989152Z",
     "iopub.status.busy": "2023-12-12T19:59:04.988754Z",
     "iopub.status.idle": "2023-12-12T19:59:34.265215Z",
     "shell.execute_reply": "2023-12-12T19:59:34.264273Z",
     "shell.execute_reply.started": "2023-12-12T19:59:04.989119Z"
    }
   },
   "outputs": [
    {
     "name": "stderr",
     "output_type": "stream",
     "text": [
      "/opt/conda/lib/python3.10/site-packages/transformers/generation/utils.py:1273: UserWarning: Using the model-agnostic default `max_length` (=20) to control the generation length. We recommend setting `max_new_tokens` to control the maximum length of the generation.\n",
      "  warnings.warn(\n"
     ]
    }
   ],
   "source": [
    "test_ds.loc[:, 'caption'] = test_ds['media'].apply(captions)"
   ]
  },
  {
   "cell_type": "code",
   "execution_count": 27,
   "metadata": {
    "execution": {
     "iopub.execute_input": "2023-12-12T20:00:36.236742Z",
     "iopub.status.busy": "2023-12-12T20:00:36.235922Z",
     "iopub.status.idle": "2023-12-12T20:00:36.301001Z",
     "shell.execute_reply": "2023-12-12T20:00:36.300171Z",
     "shell.execute_reply.started": "2023-12-12T20:00:36.236702Z"
    }
   },
   "outputs": [],
   "source": [
    "def get_sector(company):\n",
    "    return company2sector[company2sector['Company']== company]['Sector'].values[0]"
   ]
  },
  {
   "cell_type": "code",
   "execution_count": 28,
   "metadata": {
    "execution": {
     "iopub.execute_input": "2023-12-12T20:00:38.363263Z",
     "iopub.status.busy": "2023-12-12T20:00:38.362829Z",
     "iopub.status.idle": "2023-12-12T20:00:38.375615Z",
     "shell.execute_reply": "2023-12-12T20:00:38.374448Z",
     "shell.execute_reply.started": "2023-12-12T20:00:38.363228Z"
    }
   },
   "outputs": [],
   "source": [
    "test_ds.loc[:, 'sector'] = test_ds['inferred company'].apply(get_sector)"
   ]
  },
  {
   "cell_type": "code",
   "execution_count": 30,
   "metadata": {
    "execution": {
     "iopub.execute_input": "2023-12-12T20:01:07.492064Z",
     "iopub.status.busy": "2023-12-12T20:01:07.491701Z",
     "iopub.status.idle": "2023-12-12T20:01:07.498335Z",
     "shell.execute_reply": "2023-12-12T20:01:07.497165Z",
     "shell.execute_reply.started": "2023-12-12T20:01:07.492036Z"
    }
   },
   "outputs": [],
   "source": [
    "def get_prompt(row):\n",
    "    if row['caption'] != 'blank':\n",
    "        result=(\n",
    "            \"Company : \" + row['inferred company'] + \"\\n\" +\n",
    "            \"Sector : \" + row['sector'] + \"\\n\" +\n",
    "            \"Image/Video Description : \" + row['caption'] + \"\\n\" +\n",
    "            \"Goal: Generate a tweet text to increase brand awareness and to maximize the likes.The output only the tweet text.\")\n",
    "    else:\n",
    "        result=(\n",
    "            \"Company : \" + row['inferred company'] + \"\\n\" +\n",
    "            \"Sector : \" + row['sector'] + \"\\n\" +\n",
    "            \"Goal: Generate a tweet text to increase brand awareness and to maximize the likes.The output text should consist only of tweet text.\")\n",
    "    return result"
   ]
  },
  {
   "cell_type": "code",
   "execution_count": 31,
   "metadata": {
    "execution": {
     "iopub.execute_input": "2023-12-12T20:01:10.374851Z",
     "iopub.status.busy": "2023-12-12T20:01:10.374221Z",
     "iopub.status.idle": "2023-12-12T20:01:10.382350Z",
     "shell.execute_reply": "2023-12-12T20:01:10.381142Z",
     "shell.execute_reply.started": "2023-12-12T20:01:10.374818Z"
    }
   },
   "outputs": [],
   "source": [
    "test_ds['prompt'] = test_ds.apply(get_prompt, axis=1)"
   ]
  },
  {
   "cell_type": "code",
   "execution_count": 32,
   "metadata": {
    "execution": {
     "iopub.execute_input": "2023-12-12T20:01:13.006230Z",
     "iopub.status.busy": "2023-12-12T20:01:13.005844Z",
     "iopub.status.idle": "2023-12-12T20:01:13.011607Z",
     "shell.execute_reply": "2023-12-12T20:01:13.010631Z",
     "shell.execute_reply.started": "2023-12-12T20:01:13.006182Z"
    }
   },
   "outputs": [
    {
     "name": "stdout",
     "output_type": "stream",
     "text": [
      "Company : cnn\n",
      "Sector : journalism\n",
      "Image/Video Description : arafed image of a man in a suit and tie speaking into a microphone\n",
      "Goal: Generate a tweet text to increase brand awareness and to maximize the likes.The output only the tweet text.\n"
     ]
    }
   ],
   "source": [
    "print(test_ds['prompt'].iloc[5])"
   ]
  },
  {
   "cell_type": "code",
   "execution_count": 33,
   "metadata": {
    "execution": {
     "iopub.execute_input": "2023-12-12T20:01:25.614578Z",
     "iopub.status.busy": "2023-12-12T20:01:25.614167Z",
     "iopub.status.idle": "2023-12-12T20:01:25.632362Z",
     "shell.execute_reply": "2023-12-12T20:01:25.631189Z",
     "shell.execute_reply.started": "2023-12-12T20:01:25.614549Z"
    }
   },
   "outputs": [
    {
     "data": {
      "text/html": [
       "<div>\n",
       "<style scoped>\n",
       "    .dataframe tbody tr th:only-of-type {\n",
       "        vertical-align: middle;\n",
       "    }\n",
       "\n",
       "    .dataframe tbody tr th {\n",
       "        vertical-align: top;\n",
       "    }\n",
       "\n",
       "    .dataframe thead th {\n",
       "        text-align: right;\n",
       "    }\n",
       "</style>\n",
       "<table border=\"1\" class=\"dataframe\">\n",
       "  <thead>\n",
       "    <tr style=\"text-align: right;\">\n",
       "      <th></th>\n",
       "      <th>id</th>\n",
       "      <th>date</th>\n",
       "      <th>likes</th>\n",
       "      <th>content</th>\n",
       "      <th>username</th>\n",
       "      <th>media</th>\n",
       "      <th>inferred company</th>\n",
       "      <th>followers</th>\n",
       "      <th>caption</th>\n",
       "      <th>sector</th>\n",
       "      <th>prompt</th>\n",
       "    </tr>\n",
       "  </thead>\n",
       "  <tbody>\n",
       "    <tr>\n",
       "      <th>151837</th>\n",
       "      <td>151838</td>\n",
       "      <td>2019-04-30 08:03:36</td>\n",
       "      <td>676</td>\n",
       "      <td>.&lt;mention&gt; found his perfect travel companion ...</td>\n",
       "      <td>SamsungIndia</td>\n",
       "      <td>[Video(thumbnailUrl='https://pbs.twimg.com/ext...</td>\n",
       "      <td>samsung</td>\n",
       "      <td>2800000</td>\n",
       "      <td>A man is standing in front of a camera and tal...</td>\n",
       "      <td>electronics industry</td>\n",
       "      <td>Company : samsung\\nSector : electronics indust...</td>\n",
       "    </tr>\n",
       "    <tr>\n",
       "      <th>74837</th>\n",
       "      <td>74838</td>\n",
       "      <td>2018-03-27 14:28:07</td>\n",
       "      <td>257</td>\n",
       "      <td>'Sweet elderly lady' sees 1st Jets game after ...</td>\n",
       "      <td>CBCManitoba</td>\n",
       "      <td>[Photo(previewUrl='https://pbs.twimg.com/media...</td>\n",
       "      <td>cbc</td>\n",
       "      <td>128000</td>\n",
       "      <td>arafed man and woman sitting in a stadium with...</td>\n",
       "      <td>website, broadcasting</td>\n",
       "      <td>Company : cbc\\nSector : website, broadcasting\\...</td>\n",
       "    </tr>\n",
       "    <tr>\n",
       "      <th>178227</th>\n",
       "      <td>178228</td>\n",
       "      <td>2018-11-16 23:31:00</td>\n",
       "      <td>756</td>\n",
       "      <td>This sheriff's deputy has been color blind his...</td>\n",
       "      <td>CNN</td>\n",
       "      <td>[Video(thumbnailUrl='https://pbs.twimg.com/amp...</td>\n",
       "      <td>cnn</td>\n",
       "      <td>62000000</td>\n",
       "      <td>A man and a woman are playing a musical instru...</td>\n",
       "      <td>journalism</td>\n",
       "      <td>Company : cnn\\nSector : journalism\\nImage/Vide...</td>\n",
       "    </tr>\n",
       "    <tr>\n",
       "      <th>216405</th>\n",
       "      <td>216406</td>\n",
       "      <td>2019-04-30 15:02:05</td>\n",
       "      <td>431</td>\n",
       "      <td>His favorite TV show might surprise you, but h...</td>\n",
       "      <td>CameronFontana</td>\n",
       "      <td>[Video(thumbnailUrl='https://pbs.twimg.com/ext...</td>\n",
       "      <td>cameron</td>\n",
       "      <td>5500</td>\n",
       "      <td>A man and a woman are on a television show and...</td>\n",
       "      <td>journalism</td>\n",
       "      <td>Company : cameron\\nSector : journalism\\nImage/...</td>\n",
       "    </tr>\n",
       "    <tr>\n",
       "      <th>42788</th>\n",
       "      <td>42789</td>\n",
       "      <td>2020-03-26 10:04:04</td>\n",
       "      <td>1</td>\n",
       "      <td>CBN To Stay Open Amid Coronavirus Outbreak &lt;hy...</td>\n",
       "      <td>IndependentNGR</td>\n",
       "      <td>[Photo(previewUrl='https://pbs.twimg.com/media...</td>\n",
       "      <td>independent</td>\n",
       "      <td>53600</td>\n",
       "      <td>araffature of a large building with a clock to...</td>\n",
       "      <td>journalism</td>\n",
       "      <td>Company : independent\\nSector : journalism\\nIm...</td>\n",
       "    </tr>\n",
       "    <tr>\n",
       "      <th>144359</th>\n",
       "      <td>144360</td>\n",
       "      <td>2020-01-29 01:26:35</td>\n",
       "      <td>597</td>\n",
       "      <td>The Department of Energy has released more tha...</td>\n",
       "      <td>cnnbrk</td>\n",
       "      <td>[Photo(previewUrl='https://pbs.twimg.com/media...</td>\n",
       "      <td>cnn</td>\n",
       "      <td>63900000</td>\n",
       "      <td>arafed image of a man in a suit and tie speaki...</td>\n",
       "      <td>journalism</td>\n",
       "      <td>Company : cnn\\nSector : journalism\\nImage/Vide...</td>\n",
       "    </tr>\n",
       "    <tr>\n",
       "      <th>263926</th>\n",
       "      <td>263927</td>\n",
       "      <td>2019-03-03 20:00:00</td>\n",
       "      <td>53</td>\n",
       "      <td>A new season begins!  Good luck today &lt;mention...</td>\n",
       "      <td>amfam</td>\n",
       "      <td>[Photo(previewUrl='https://pbs.twimg.com/media...</td>\n",
       "      <td>american family insurance</td>\n",
       "      <td>40700</td>\n",
       "      <td>arafam fearlessslv is a proud player for ameri...</td>\n",
       "      <td>insurance</td>\n",
       "      <td>Company : american family insurance\\nSector : ...</td>\n",
       "    </tr>\n",
       "    <tr>\n",
       "      <th>54713</th>\n",
       "      <td>54714</td>\n",
       "      <td>2019-02-26 17:32:20</td>\n",
       "      <td>4</td>\n",
       "      <td>this took me tf out 😂😂😂 &lt;hyperlink&gt;</td>\n",
       "      <td>EmersonLotzia</td>\n",
       "      <td>[Video(thumbnailUrl='https://pbs.twimg.com/med...</td>\n",
       "      <td>emerson</td>\n",
       "      <td>7500</td>\n",
       "      <td>A man is performing martial arts in front of a...</td>\n",
       "      <td>electrical device</td>\n",
       "      <td>Company : emerson\\nSector : electrical device\\...</td>\n",
       "    </tr>\n",
       "    <tr>\n",
       "      <th>272362</th>\n",
       "      <td>272363</td>\n",
       "      <td>2019-11-16 12:14:00</td>\n",
       "      <td>4311</td>\n",
       "      <td>Why manage in the midst of abundance? Enjoy MO...</td>\n",
       "      <td>AirtelNigeria</td>\n",
       "      <td>[Video(thumbnailUrl='https://pbs.twimg.com/ext...</td>\n",
       "      <td>airtel</td>\n",
       "      <td>664600</td>\n",
       "      <td>A woman is demonstrating how to wash your hand...</td>\n",
       "      <td>telecommunications</td>\n",
       "      <td>Company : airtel\\nSector : telecommunications\\...</td>\n",
       "    </tr>\n",
       "    <tr>\n",
       "      <th>176454</th>\n",
       "      <td>176455</td>\n",
       "      <td>2020-05-09 12:48:05</td>\n",
       "      <td>1</td>\n",
       "      <td>Ebonyi APC Lauds Supreme Court’s Verdict On Ka...</td>\n",
       "      <td>IndependentNGR</td>\n",
       "      <td>[Photo(previewUrl='https://pbs.twimg.com/media...</td>\n",
       "      <td>independent</td>\n",
       "      <td>53600</td>\n",
       "      <td>a close up of a person holding a broom with th...</td>\n",
       "      <td>journalism</td>\n",
       "      <td>Company : independent\\nSector : journalism\\nIm...</td>\n",
       "    </tr>\n",
       "  </tbody>\n",
       "</table>\n",
       "</div>"
      ],
      "text/plain": [
       "            id                 date  likes  \\\n",
       "151837  151838  2019-04-30 08:03:36    676   \n",
       "74837    74838  2018-03-27 14:28:07    257   \n",
       "178227  178228  2018-11-16 23:31:00    756   \n",
       "216405  216406  2019-04-30 15:02:05    431   \n",
       "42788    42789  2020-03-26 10:04:04      1   \n",
       "144359  144360  2020-01-29 01:26:35    597   \n",
       "263926  263927  2019-03-03 20:00:00     53   \n",
       "54713    54714  2019-02-26 17:32:20      4   \n",
       "272362  272363  2019-11-16 12:14:00   4311   \n",
       "176454  176455  2020-05-09 12:48:05      1   \n",
       "\n",
       "                                                  content        username  \\\n",
       "151837  .<mention> found his perfect travel companion ...    SamsungIndia   \n",
       "74837   'Sweet elderly lady' sees 1st Jets game after ...     CBCManitoba   \n",
       "178227  This sheriff's deputy has been color blind his...             CNN   \n",
       "216405  His favorite TV show might surprise you, but h...  CameronFontana   \n",
       "42788   CBN To Stay Open Amid Coronavirus Outbreak <hy...  IndependentNGR   \n",
       "144359  The Department of Energy has released more tha...          cnnbrk   \n",
       "263926  A new season begins!  Good luck today <mention...           amfam   \n",
       "54713                 this took me tf out 😂😂😂 <hyperlink>   EmersonLotzia   \n",
       "272362  Why manage in the midst of abundance? Enjoy MO...   AirtelNigeria   \n",
       "176454  Ebonyi APC Lauds Supreme Court’s Verdict On Ka...  IndependentNGR   \n",
       "\n",
       "                                                    media  \\\n",
       "151837  [Video(thumbnailUrl='https://pbs.twimg.com/ext...   \n",
       "74837   [Photo(previewUrl='https://pbs.twimg.com/media...   \n",
       "178227  [Video(thumbnailUrl='https://pbs.twimg.com/amp...   \n",
       "216405  [Video(thumbnailUrl='https://pbs.twimg.com/ext...   \n",
       "42788   [Photo(previewUrl='https://pbs.twimg.com/media...   \n",
       "144359  [Photo(previewUrl='https://pbs.twimg.com/media...   \n",
       "263926  [Photo(previewUrl='https://pbs.twimg.com/media...   \n",
       "54713   [Video(thumbnailUrl='https://pbs.twimg.com/med...   \n",
       "272362  [Video(thumbnailUrl='https://pbs.twimg.com/ext...   \n",
       "176454  [Photo(previewUrl='https://pbs.twimg.com/media...   \n",
       "\n",
       "                 inferred company  followers  \\\n",
       "151837                    samsung    2800000   \n",
       "74837                         cbc     128000   \n",
       "178227                        cnn   62000000   \n",
       "216405                    cameron       5500   \n",
       "42788                 independent      53600   \n",
       "144359                        cnn   63900000   \n",
       "263926  american family insurance      40700   \n",
       "54713                     emerson       7500   \n",
       "272362                     airtel     664600   \n",
       "176454                independent      53600   \n",
       "\n",
       "                                                  caption  \\\n",
       "151837  A man is standing in front of a camera and tal...   \n",
       "74837   arafed man and woman sitting in a stadium with...   \n",
       "178227  A man and a woman are playing a musical instru...   \n",
       "216405  A man and a woman are on a television show and...   \n",
       "42788   araffature of a large building with a clock to...   \n",
       "144359  arafed image of a man in a suit and tie speaki...   \n",
       "263926  arafam fearlessslv is a proud player for ameri...   \n",
       "54713   A man is performing martial arts in front of a...   \n",
       "272362  A woman is demonstrating how to wash your hand...   \n",
       "176454  a close up of a person holding a broom with th...   \n",
       "\n",
       "                       sector  \\\n",
       "151837   electronics industry   \n",
       "74837   website, broadcasting   \n",
       "178227             journalism   \n",
       "216405             journalism   \n",
       "42788              journalism   \n",
       "144359             journalism   \n",
       "263926              insurance   \n",
       "54713       electrical device   \n",
       "272362     telecommunications   \n",
       "176454             journalism   \n",
       "\n",
       "                                                   prompt  \n",
       "151837  Company : samsung\\nSector : electronics indust...  \n",
       "74837   Company : cbc\\nSector : website, broadcasting\\...  \n",
       "178227  Company : cnn\\nSector : journalism\\nImage/Vide...  \n",
       "216405  Company : cameron\\nSector : journalism\\nImage/...  \n",
       "42788   Company : independent\\nSector : journalism\\nIm...  \n",
       "144359  Company : cnn\\nSector : journalism\\nImage/Vide...  \n",
       "263926  Company : american family insurance\\nSector : ...  \n",
       "54713   Company : emerson\\nSector : electrical device\\...  \n",
       "272362  Company : airtel\\nSector : telecommunications\\...  \n",
       "176454  Company : independent\\nSector : journalism\\nIm...  "
      ]
     },
     "execution_count": 33,
     "metadata": {},
     "output_type": "execute_result"
    }
   ],
   "source": [
    "test_ds"
   ]
  },
  {
   "cell_type": "code",
   "execution_count": 34,
   "metadata": {
    "execution": {
     "iopub.execute_input": "2023-12-12T20:02:07.170407Z",
     "iopub.status.busy": "2023-12-12T20:02:07.169920Z",
     "iopub.status.idle": "2023-12-12T20:03:10.804949Z",
     "shell.execute_reply": "2023-12-12T20:03:10.804091Z",
     "shell.execute_reply.started": "2023-12-12T20:02:07.170360Z"
    }
   },
   "outputs": [
    {
     "data": {
      "application/vnd.jupyter.widget-view+json": {
       "model_id": "1c23ea27e9fa436c9ab7c5fae8c30463",
       "version_major": 2,
       "version_minor": 0
      },
      "text/plain": [
       "Loading checkpoint shards:   0%|          | 0/2 [00:00<?, ?it/s]"
      ]
     },
     "metadata": {},
     "output_type": "display_data"
    }
   ],
   "source": [
    "model_fin = AutoModelForCausalLM.from_pretrained(\"mistralai/Mistral-7B-Instruct-v0.1\", quantization_config=bnb_config, device_map=\"auto\")\n",
    "tokenizer_fin = AutoTokenizer.from_pretrained(\"mistralai/Mistral-7B-Instruct-v0.1\")"
   ]
  },
  {
   "cell_type": "code",
   "execution_count": 91,
   "metadata": {
    "execution": {
     "iopub.execute_input": "2023-12-12T20:35:59.529485Z",
     "iopub.status.busy": "2023-12-12T20:35:59.528509Z",
     "iopub.status.idle": "2023-12-12T20:35:59.535993Z",
     "shell.execute_reply": "2023-12-12T20:35:59.534894Z",
     "shell.execute_reply.started": "2023-12-12T20:35:59.529449Z"
    }
   },
   "outputs": [],
   "source": [
    "c = 0\n",
    "def gen_tweet(prompt):\n",
    "    global c\n",
    "    c+=1\n",
    "    messages = [\n",
    "        {\"role\": \"user\", \"content\": prompt}\n",
    "    ]\n",
    "\n",
    "\n",
    "    encodeds = tokenizer_fin.apply_chat_template(messages, return_tensors=\"pt\")\n",
    "\n",
    "    model_inputs = encodeds.to(device)\n",
    "\n",
    "\n",
    "    generated_ids = model_fin.generate(model_inputs, max_new_tokens=200, do_sample=True ,pad_token_id= tokenizer_fin.eos_token_id)\n",
    "    decoded = tokenizer_fin.batch_decode(generated_ids)\n",
    "    if c==5:\n",
    "        print(c)\n",
    "    return decoded[0]"
   ]
  },
  {
   "cell_type": "code",
   "execution_count": 92,
   "metadata": {
    "execution": {
     "iopub.execute_input": "2023-12-12T20:35:59.658583Z",
     "iopub.status.busy": "2023-12-12T20:35:59.658243Z",
     "iopub.status.idle": "2023-12-12T20:36:54.699187Z",
     "shell.execute_reply": "2023-12-12T20:36:54.698373Z",
     "shell.execute_reply.started": "2023-12-12T20:35:59.658556Z"
    }
   },
   "outputs": [
    {
     "name": "stdout",
     "output_type": "stream",
     "text": [
      "5\n"
     ]
    }
   ],
   "source": [
    "test_ds.loc[:, 'output'] = test_ds['prompt'].apply(gen_tweet)"
   ]
  },
  {
   "cell_type": "code",
   "execution_count": null,
   "metadata": {},
   "outputs": [],
   "source": []
  }
 ],
 "metadata": {
  "kaggle": {
   "accelerator": "nvidiaTeslaT4",
   "dataSources": [
    {
     "datasetId": 4147300,
     "sourceId": 7176600,
     "sourceType": "datasetVersion"
    },
    {
     "datasetId": 4153031,
     "sourceId": 7184308,
     "sourceType": "datasetVersion"
    },
    {
     "datasetId": 4154868,
     "sourceId": 7186775,
     "sourceType": "datasetVersion"
    },
    {
     "datasetId": 4154892,
     "sourceId": 7186806,
     "sourceType": "datasetVersion"
    }
   ],
   "dockerImageVersionId": 30616,
   "isGpuEnabled": true,
   "isInternetEnabled": true,
   "language": "python",
   "sourceType": "notebook"
  },
  "kernelspec": {
   "display_name": "Python 3 (ipykernel)",
   "language": "python",
   "name": "python3"
  },
  "language_info": {
   "codemirror_mode": {
    "name": "ipython",
    "version": 3
   },
   "file_extension": ".py",
   "mimetype": "text/x-python",
   "name": "python",
   "nbconvert_exporter": "python",
   "pygments_lexer": "ipython3",
   "version": "3.10.5"
  }
 },
 "nbformat": 4,
 "nbformat_minor": 4
}
